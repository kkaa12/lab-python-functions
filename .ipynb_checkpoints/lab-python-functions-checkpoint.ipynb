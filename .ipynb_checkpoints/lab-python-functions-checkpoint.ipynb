{
 "cells": [
  {
   "cell_type": "markdown",
   "id": "25d7736c-ba17-4aff-b6bb-66eba20fbf4e",
   "metadata": {},
   "source": [
    "# Lab | Functions"
   ]
  },
  {
   "cell_type": "markdown",
   "id": "0c581062-8967-4d93-b06e-62833222f930",
   "metadata": {
    "tags": []
   },
   "source": [
    "## Exercise: Managing Customer Orders with Functions\n",
    "\n",
    "In the previous exercise, you improved the code for managing customer orders by using loops and flow control. Now, let's take it a step further and refactor the code by introducing functions.\n",
    "\n",
    "Follow the steps below to complete the exercise:\n",
    "\n",
    "1. Define a function named `initialize_inventory` that takes `products` as a parameter. Inside the function, implement the code for initializing the inventory dictionary using a loop and user input.\n",
    "\n",
    "2. Define a function named `get_customer_orders` that takes no parameters. Inside the function, implement the code for prompting the user to enter the product names using a loop. The function should return the `customer_orders` set.\n",
    "\n",
    "3. Define a function named `update_inventory` that takes `customer_orders` and `inventory` as parameters. Inside the function, implement the code for updating the inventory dictionary based on the customer orders.\n",
    "\n",
    "4. Define a function named `calculate_order_statistics` that takes `customer_orders` and `products` as parameters. Inside the function, implement the code for calculating the order statistics (total products ordered, and percentage of unique products ordered). The function should return these values.\n",
    "\n",
    "5. Define a function named `print_order_statistics` that takes `order_statistics` as a parameter. Inside the function, implement the code for printing the order statistics.\n",
    "\n",
    "6. Define a function named `print_updated_inventory` that takes `inventory` as a parameter. Inside the function, implement the code for printing the updated inventory.\n",
    "\n",
    "7. Call the functions in the appropriate sequence to execute the program and manage customer orders.\n",
    "\n",
    "Hints for functions:\n",
    "\n",
    "- Consider the input parameters required for each function and their return values.\n",
    "- Utilize function parameters and return values to transfer data between functions.\n",
    "- Test your functions individually to ensure they work correctly.\n",
    "\n",
    "\n"
   ]
  },
  {
   "cell_type": "code",
   "execution_count": 1,
   "id": "45cce46e",
   "metadata": {},
   "outputs": [],
   "source": [
    "products = [\"t-shirt\", \"mug\", \"hat\", \"book\", \"keychain\"]\n",
    "inventory = {}\n",
    "\n",
    "def initialize_inventory(products):\n",
    "\n",
    "    for product in products:\n",
    "        quantity = int(input(f\"Enter the quantity of '{product}': \"))\n",
    "        inventory[product] = quantity\n",
    "\n",
    "    return inventory\n",
    "\n",
    "\n"
   ]
  },
  {
   "cell_type": "code",
   "execution_count": 2,
   "id": "e172e2f6",
   "metadata": {},
   "outputs": [],
   "source": [
    "customer_orders = set()\n",
    "\n",
    "def get_customer_orders():\n",
    "    keep_asking = 1\n",
    "\n",
    "    while keep_asking != 0:\n",
    "            input_product = input(f\"Choose a product you would like to order from this list: {products}: \")\n",
    "            if input_product in products:\n",
    "                if input_product not in customer_orders:  \n",
    "                    customer_orders.add(input_product)\n",
    "                    user_input = input(\"Do you want to order another product? Enter yes or no\").strip()\n",
    "                    if user_input == \"yes\":    \n",
    "                        keep_asking -= 0\n",
    "                    elif user_input == \"no\":\n",
    "                        keep_asking -= 1\n",
    "                    else:\n",
    "                        print(\"Please answer 'yes' or 'no'\")\n",
    "                else:\n",
    "                    print(\"You've already ordered this product. Please choose a different one.\")\n",
    "            else:\n",
    "                 print(\"Choice not valid, try again.\")\n",
    "    \n",
    "    return customer_orders\n",
    "\n",
    "        "
   ]
  },
  {
   "cell_type": "code",
   "execution_count": 3,
   "id": "8bf64937",
   "metadata": {},
   "outputs": [],
   "source": [
    "def update_inventory(customer_orders, inventory):\n",
    "    ordered_from_inventory = {}\n",
    "\n",
    "    for item in customer_orders:\n",
    "        value = input(f\"Enter quantity for {item}: \")\n",
    "        try:\n",
    "            ordered_from_inventory[item] = int(value)\n",
    "        except:\n",
    "            print(\"Invalid input\")\n",
    "            ordered_from_inventory[item] = 0\n",
    "\n",
    "\n",
    "\n",
    "    for item, quantity in ordered_from_inventory.items():\n",
    "        if item in inventory:\n",
    "            inventory[item] -= quantity\n",
    "        else:\n",
    "            print(f\"{item} not found in inventory.\")\n",
    "\n",
    "\n",
    "\n",
    "\n",
    "    "
   ]
  },
  {
   "cell_type": "code",
   "execution_count": 4,
   "id": "31ffbe73",
   "metadata": {},
   "outputs": [],
   "source": [
    "def calculate_order_statistics(customer_orders, products):\n",
    "    total_products_ordered = len(customer_orders)\n",
    "    percentage_ordered = (total_products_ordered / len(products)) * 100\n",
    "\n",
    "    print(f\"Total Products Ordered: {total_products_ordered}\")\n",
    "    print(f\"Percentage of Products Ordered: {percentage_ordered:.2f}%\")\n",
    "    \n"
   ]
  },
  {
   "cell_type": "code",
   "execution_count": 5,
   "id": "9d43554b",
   "metadata": {},
   "outputs": [],
   "source": [
    "def print_order_statistics():\n",
    "    print(\"Order Statistics:\")\n",
    "    "
   ]
  },
  {
   "cell_type": "code",
   "execution_count": 6,
   "id": "4c66b4ad",
   "metadata": {},
   "outputs": [],
   "source": [
    "def print_updated_inventory(inventory):\n",
    "    print(\"Updated inventory:\",inventory)\n",
    "    "
   ]
  },
  {
   "cell_type": "code",
   "execution_count": 7,
   "id": "410522be",
   "metadata": {},
   "outputs": [
    {
     "name": "stdout",
     "output_type": "stream",
     "text": [
      "Enter the quantity of 't-shirt': 50\n",
      "Enter the quantity of 'mug': 50\n",
      "Enter the quantity of 'hat': 50\n",
      "Enter the quantity of 'book': 50\n",
      "Enter the quantity of 'keychain': 50\n",
      "Choose a product you would like to order from this list: ['t-shirt', 'mug', 'hat', 'book', 'keychain']: mug\n",
      "Do you want to order another product? Enter yes or noyes\n",
      "Choose a product you would like to order from this list: ['t-shirt', 'mug', 'hat', 'book', 'keychain']: hat\n",
      "Do you want to order another product? Enter yes or no\n",
      "Please answer 'yes' or 'no'\n",
      "Choose a product you would like to order from this list: ['t-shirt', 'mug', 'hat', 'book', 'keychain']: book\n",
      "Do you want to order another product? Enter yes or nono\n",
      "Enter quantity for hat: 15\n",
      "Enter quantity for book: 20\n",
      "Enter quantity for mug: 10\n",
      "Total Products Ordered: 3\n",
      "Percentage of Products Ordered: 60.00%\n",
      "Order Statistics:\n",
      "Updated inventory: {'t-shirt': 50, 'mug': 40, 'hat': 35, 'book': 30, 'keychain': 50}\n"
     ]
    }
   ],
   "source": [
    "initialize_inventory(products)\n",
    "get_customer_orders()\n",
    "update_inventory(customer_orders, inventory)\n",
    "calculate_order_statistics(customer_orders, products)\n",
    "print_order_statistics()\n",
    "print_updated_inventory(inventory)"
   ]
  },
  {
   "cell_type": "code",
   "execution_count": null,
   "id": "ce4f7dd4",
   "metadata": {},
   "outputs": [],
   "source": []
  }
 ],
 "metadata": {
  "kernelspec": {
   "display_name": "Python 3 (ipykernel)",
   "language": "python",
   "name": "python3"
  },
  "language_info": {
   "codemirror_mode": {
    "name": "ipython",
    "version": 3
   },
   "file_extension": ".py",
   "mimetype": "text/x-python",
   "name": "python",
   "nbconvert_exporter": "python",
   "pygments_lexer": "ipython3",
   "version": "3.11.5"
  }
 },
 "nbformat": 4,
 "nbformat_minor": 5
}
